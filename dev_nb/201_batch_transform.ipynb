{
 "cells": [
  {
   "cell_type": "code",
   "execution_count": null,
   "metadata": {},
   "outputs": [],
   "source": [
    "from nb_200 import *"
   ]
  },
  {
   "cell_type": "markdown",
   "metadata": {},
   "source": [
    "## Get the data"
   ]
  },
  {
   "cell_type": "code",
   "execution_count": null,
   "metadata": {},
   "outputs": [],
   "source": [
    "class PetsData(DataBlock):\n",
    "    get_x_cls = ImageGetter\n",
    "    get_y_cls = CategoryGetter\n",
    "    \n",
    "    def get_source(self):        return untar_data(URLs.PETS)\n",
    "    def get_items(self, source): return get_image_files(source/\"images\")\n",
    "    def split(self, items):      return random_splitter(items)\n",
    "    def label(self, items):      return re_labeller(items, pat = r'/([^/]+)_\\d+.jpg$')"
   ]
  },
  {
   "cell_type": "code",
   "execution_count": null,
   "metadata": {},
   "outputs": [],
   "source": [
    "tfms = [make_rgb, ResizeFixed(128), to_byte_tensor, to_float_tensor]"
   ]
  },
  {
   "cell_type": "code",
   "execution_count": null,
   "metadata": {},
   "outputs": [],
   "source": [
    "data = PetsData(tfms_x=tfms).databunch()"
   ]
  },
  {
   "cell_type": "code",
   "execution_count": null,
   "metadata": {},
   "outputs": [],
   "source": [
    "data.show_batch()"
   ]
  },
  {
   "cell_type": "markdown",
   "metadata": {},
   "source": [
    "## Data augmentation on the GPU"
   ]
  },
  {
   "cell_type": "markdown",
   "metadata": {},
   "source": [
    "Writing batch transforms as transforms for now, can easily put them in callbacks."
   ]
  },
  {
   "cell_type": "code",
   "execution_count": null,
   "metadata": {},
   "outputs": [],
   "source": [
    "device = torch.device('cuda',0)"
   ]
  },
  {
   "cell_type": "code",
   "execution_count": null,
   "metadata": {},
   "outputs": [],
   "source": [
    "class Cuda():\n",
    "    _order = 0\n",
    "    def __init__(self,device): self.device=device\n",
    "    def __call__(self, b): return (b[0].to(self.device), b[1].to(self.device))"
   ]
  },
  {
   "cell_type": "code",
   "execution_count": null,
   "metadata": {},
   "outputs": [],
   "source": [
    "class DataAugTfm():\n",
    "    _order = 5\n",
    "    def randomize(self, bs):   pass"
   ]
  },
  {
   "cell_type": "code",
   "execution_count": null,
   "metadata": {},
   "outputs": [],
   "source": [
    "import torch.nn.functional as F"
   ]
  },
  {
   "cell_type": "code",
   "execution_count": null,
   "metadata": {},
   "outputs": [],
   "source": [
    "class AffineAndCoordTfm(DataAugTfm):\n",
    "    def __init__(self, aff_tfms, coord_tfms, size=None, tfm_y=False, mode='bilinear', padding_mode='reflection'):\n",
    "        self.aff_tfms,self.coord_tfms,self.mode,self.padding_mode = aff_tfms,coord_tfms,mode,padding_mode\n",
    "        self.tfm_y = tfm_y\n",
    "        self.size = None if size is None else (size,size) if isinstance(size, int) else tuple(size)\n",
    "    \n",
    "    def randomize(self, x):\n",
    "        for t in self.aff_tfms+self.coord_tfms: t.randomize(x)\n",
    "    \n",
    "    def __call__(self, b): \n",
    "        self.randomize(b[0])\n",
    "        return (self.apply_tfms(b[0]), self.apply_tfms(b[1])) if self.tfm_y else (self.apply_tfms(b[0]), b[1])\n",
    "    \n",
    "    def apply_tfms(self, x):\n",
    "        isint = x.dtype == torch.int64\n",
    "        if isint: x = x.float()\n",
    "        bs = x.size(0)\n",
    "        size = tuple(x.shape[-2:]) if self.size is None else self.size\n",
    "        size = (x.size(0),x.size(1)) + size\n",
    "        aff_m = torch.eye(3, dtype=x.dtype, device=x.device).unsqueeze(0).expand(bs, 3, 3)\n",
    "        ms = [tfm() for tfm in self.aff_tfms]\n",
    "        ms = [m for m in ms if m is not None]\n",
    "        for m in ms: aff_m = aff_m @ m\n",
    "        coords = F.affine_grid(aff_m[:,:2], size)\n",
    "        coords = compose(coords, self.coord_tfms)\n",
    "        mode = 'nearest' if isint else self.mode\n",
    "        res = F.grid_sample(x, coords, mode=mode, padding_mode=self.padding_mode)\n",
    "        return res.long() if isint else res"
   ]
  },
  {
   "cell_type": "code",
   "execution_count": null,
   "metadata": {},
   "outputs": [],
   "source": [
    "import math\n",
    "from torch import stack"
   ]
  },
  {
   "cell_type": "markdown",
   "metadata": {},
   "source": [
    "### Rotate"
   ]
  },
  {
   "cell_type": "code",
   "execution_count": null,
   "metadata": {},
   "outputs": [],
   "source": [
    "from torch import zeros_like as t0, ones_like as t1"
   ]
  },
  {
   "cell_type": "code",
   "execution_count": null,
   "metadata": {},
   "outputs": [],
   "source": [
    "def rotation_matrix(thetas):\n",
    "    thetas.mul_(math.pi/180)\n",
    "    rows = [stack([thetas.cos(),  thetas.sin(), t0(thetas)], dim=1),\n",
    "            stack([-thetas.sin(), thetas.cos(), t0(thetas)], dim=1),\n",
    "            stack([t0(thetas),    t0(thetas),   t1(thetas)], dim=1)]\n",
    "    return stack(rows, dim=1)"
   ]
  },
  {
   "cell_type": "code",
   "execution_count": null,
   "metadata": {},
   "outputs": [],
   "source": [
    "from torch.distributions.bernoulli import Bernoulli"
   ]
  },
  {
   "cell_type": "code",
   "execution_count": null,
   "metadata": {},
   "outputs": [],
   "source": [
    "class RandomRotation(DataAugTfm):\n",
    "    def __init__(self, degrees, p=0.5):\n",
    "        self.mat,self.degrees,self.p = None,degrees,p\n",
    "    \n",
    "    def randomize(self, x):\n",
    "        mask = x.new_empty(x.size(0)).bernoulli_(self.p)\n",
    "        thetas = x.new_empty(x.size(0)).uniform_(-self.degrees,self.degrees)\n",
    "        self.mat = rotation_matrix(thetas * mask)\n",
    "    \n",
    "    def __call__(self): return self.mat"
   ]
  },
  {
   "cell_type": "code",
   "execution_count": null,
   "metadata": {},
   "outputs": [],
   "source": [
    "tfms = [Cuda(device), AffineAndCoordTfm([RandomRotation(30.)], [])]"
   ]
  },
  {
   "cell_type": "code",
   "execution_count": null,
   "metadata": {},
   "outputs": [],
   "source": [
    "batch = next(iter(data.train_dl))\n",
    "b = (batch[0][0].unsqueeze(0).expand(16,*batch[0].shape[1:]), batch[1][0].unsqueeze(0).expand(16))"
   ]
  },
  {
   "cell_type": "code",
   "execution_count": null,
   "metadata": {},
   "outputs": [],
   "source": [
    "def show_batch(data, batch, items=9, **kwargs):\n",
    "    x,y = batch[0].cpu(),batch[1].cpu()\n",
    "    data.train_ds.x.item_get.show_xys(\n",
    "        [data.train_ds.x.deproc(x[i]) for i in range(items)], \n",
    "        [data.train_ds.y.deproc(y[i]) for i in range(items)], \n",
    "        data.train_ds.y.item_get,\n",
    "    **kwargs)"
   ]
  },
  {
   "cell_type": "code",
   "execution_count": null,
   "metadata": {},
   "outputs": [],
   "source": [
    "batch_tfmed = compose(b, tfms)"
   ]
  },
  {
   "cell_type": "code",
   "execution_count": null,
   "metadata": {},
   "outputs": [],
   "source": [
    "show_batch(data, batch_tfmed)"
   ]
  },
  {
   "cell_type": "markdown",
   "metadata": {},
   "source": [
    "### Warp"
   ]
  },
  {
   "cell_type": "code",
   "execution_count": null,
   "metadata": {},
   "outputs": [],
   "source": [
    "def find_coeffs(p1, p2):\n",
    "    matrix = []\n",
    "    p = p1[:,0,0]\n",
    "    #The equations we'll need to solve.\n",
    "    for i in range(p1.shape[1]):\n",
    "        matrix.append(stack([p2[:,i,0], p2[:,i,1], t1(p), t0(p), t0(p), t0(p), -p1[:,i,0]*p2[:,i,0], -p1[:,i,0]*p2[:,i,1]]))\n",
    "        matrix.append(stack([t0(p), t0(p), t0(p), p2[:,i,0], p2[:,i,1], t1(p), -p1[:,i,1]*p2[:,i,0], -p1[:,i,1]*p2[:,i,1]]))\n",
    "    #The 8 scalars we seek are solution of AX = B\n",
    "    A = stack(matrix).permute(2, 0, 1)\n",
    "    B = p1.view(p1.shape[0], 8, 1)\n",
    "    return torch.solve(B,A)[0]"
   ]
  },
  {
   "cell_type": "code",
   "execution_count": null,
   "metadata": {},
   "outputs": [],
   "source": [
    "def apply_perspective(coords, coeffs):\n",
    "    coeffs = torch.cat([coeffs, t1(coeffs[:,:1])], dim=1).view(coeffs.shape[0], 3,3)\n",
    "    coords = torch.einsum('bijk,blk -> bijl', coords, coeffs[...,:2]) + coeffs[:,None,None,:,2]\n",
    "    coords.div_(coords[...,2].unsqueeze(-1))\n",
    "    return coords[...,:2]"
   ]
  },
  {
   "cell_type": "code",
   "execution_count": null,
   "metadata": {},
   "outputs": [],
   "source": [
    "class RandomWarp(DataAugTfm):\n",
    "    def __init__(self, magnitude, p=0.5):\n",
    "        self.coeffs,self.magnitude,self.p = None,magnitude,p\n",
    "    \n",
    "    def randomize(self, x):\n",
    "        mask = x.new_empty(x.size(0)).bernoulli_(self.p)\n",
    "        up_t = x.new_empty(x.size(0)).uniform_(-self.magnitude,self. magnitude)\n",
    "        lr_t = x.new_empty(x.size(0)).uniform_(-self.magnitude,self. magnitude)\n",
    "        orig_pts = torch.tensor([[-1,-1], [-1,1], [1,-1], [1,1]], dtype=x.dtype, device=x.device)\n",
    "        orig_pts = orig_pts.unsqueeze(0).expand(x.size(0),4,2)\n",
    "        targ_pts = stack([stack([-1-up_t, -1-lr_t]), stack([-1+up_t, 1+lr_t]), \n",
    "                               stack([1+up_t, -1+lr_t]), stack([1-up_t, 1-lr_t])])\n",
    "        targ_pts = targ_pts.permute(2,0,1)\n",
    "        self.coeffs = find_coeffs(orig_pts, targ_pts)\n",
    "    \n",
    "    def __call__(self, x): \n",
    "        return None if self.coeffs is None else apply_perspective(x, self.coeffs)"
   ]
  },
  {
   "cell_type": "code",
   "execution_count": null,
   "metadata": {},
   "outputs": [],
   "source": [
    "tfms = [Cuda(device), AffineAndCoordTfm([RandomRotation(10.)], [RandomWarp(0.2)])]"
   ]
  },
  {
   "cell_type": "code",
   "execution_count": null,
   "metadata": {},
   "outputs": [],
   "source": [
    "batch_tfmed = compose(b, tfms)"
   ]
  },
  {
   "cell_type": "code",
   "execution_count": null,
   "metadata": {},
   "outputs": [],
   "source": [
    "show_batch(data, batch_tfmed)"
   ]
  },
  {
   "cell_type": "markdown",
   "metadata": {},
   "source": [
    "### With y transformed"
   ]
  },
  {
   "cell_type": "code",
   "execution_count": null,
   "metadata": {},
   "outputs": [],
   "source": [
    "class CamvidData(DataBlock):\n",
    "    get_x_cls = ImageGetter\n",
    "    get_y_cls = SegmentMaskGetter\n",
    "    \n",
    "    def get_source(self):        return untar_data(URLs.CAMVID_TINY)      \n",
    "    def get_items(self, source): return get_image_files(source/'images')\n",
    "    def split(self, items):      return random_splitter(items)\n",
    "    def label(self, items):      \n",
    "        path_lbl = self.source/'labels'\n",
    "        codes = np.loadtxt(self.source/'codes.txt', dtype=str)\n",
    "        return func_labeller(items, lambda x: path_lbl/f'{x.stem}_P{x.suffix}')"
   ]
  },
  {
   "cell_type": "code",
   "execution_count": null,
   "metadata": {},
   "outputs": [],
   "source": [
    "tfms_x = [make_rgb,  ResizeFixed(128), to_byte_tensor, to_float_tensor]\n",
    "tfms_y = [make_mask, ResizeFixed(128, mode=PIL.Image.NEAREST), to_byte_tensor, to_long_tensor]"
   ]
  },
  {
   "cell_type": "code",
   "execution_count": null,
   "metadata": {},
   "outputs": [],
   "source": [
    "data = CamvidData(tfms_x=tfms_x, tfms_y=tfms_y).databunch(bs=16)"
   ]
  },
  {
   "cell_type": "code",
   "execution_count": null,
   "metadata": {},
   "outputs": [],
   "source": [
    "data.show_batch()"
   ]
  },
  {
   "cell_type": "code",
   "execution_count": null,
   "metadata": {},
   "outputs": [],
   "source": [
    "batch = next(iter(data.train_dl))\n",
    "b = (batch[0][0].unsqueeze(0).expand(16,*batch[0].shape[1:]), batch[1][0].unsqueeze(0).expand(16,*batch[1].shape[1:]))"
   ]
  },
  {
   "cell_type": "code",
   "execution_count": null,
   "metadata": {},
   "outputs": [],
   "source": [
    "tfms = [Cuda(device), AffineAndCoordTfm([RandomRotation(10.)], [RandomWarp(0.2)], mode='nearest', tfm_y=True)]"
   ]
  },
  {
   "cell_type": "code",
   "execution_count": null,
   "metadata": {},
   "outputs": [],
   "source": [
    "batch_tfmed = compose(b, tfms)"
   ]
  },
  {
   "cell_type": "code",
   "execution_count": null,
   "metadata": {},
   "outputs": [],
   "source": [
    "show_batch(data, batch_tfmed)"
   ]
  },
  {
   "cell_type": "code",
   "execution_count": null,
   "metadata": {},
   "outputs": [],
   "source": []
  }
 ],
 "metadata": {
  "kernelspec": {
   "display_name": "Python 3",
   "language": "python",
   "name": "python3"
  }
 },
 "nbformat": 4,
 "nbformat_minor": 2
}
